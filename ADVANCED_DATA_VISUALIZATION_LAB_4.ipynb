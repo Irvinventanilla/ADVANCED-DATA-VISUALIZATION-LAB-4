{
  "nbformat": 4,
  "nbformat_minor": 0,
  "metadata": {
    "colab": {
      "provenance": [],
      "authorship_tag": "ABX9TyOc4vg1oIGpoDtT8zbgr7rv",
      "include_colab_link": true
    },
    "kernelspec": {
      "name": "python3",
      "display_name": "Python 3"
    },
    "language_info": {
      "name": "python"
    }
  },
  "cells": [
    {
      "cell_type": "markdown",
      "metadata": {
        "id": "view-in-github",
        "colab_type": "text"
      },
      "source": [
        "<a href=\"https://colab.research.google.com/github/Irvinventanilla/ADVANCED-DATA-VISUALIZATION-LAB-4/blob/main/ADVANCED_DATA_VISUALIZATION_LAB_4.ipynb\" target=\"_parent\"><img src=\"https://colab.research.google.com/assets/colab-badge.svg\" alt=\"Open In Colab\"/></a>"
      ]
    },
    {
      "cell_type": "code",
      "execution_count": 1,
      "metadata": {
        "id": "9OF5_JOFCWsH"
      },
      "outputs": [],
      "source": [
        "z = [3, 7, 4, 2]"
      ]
    },
    {
      "cell_type": "code",
      "source": [
        "heterogenousElements = [3, True, 'Michael', 2.0]"
      ],
      "metadata": {
        "id": "fjuBqQBVDdWd"
      },
      "execution_count": 2,
      "outputs": []
    },
    {
      "cell_type": "code",
      "source": [
        "z [-1]"
      ],
      "metadata": {
        "colab": {
          "base_uri": "https://localhost:8080/"
        },
        "id": "88iwnecvDgxO",
        "outputId": "4f3548e9-1a7a-415b-a5f1-17c2f881a179"
      },
      "execution_count": 10,
      "outputs": [
        {
          "output_type": "execute_result",
          "data": {
            "text/plain": [
              "2"
            ]
          },
          "metadata": {},
          "execution_count": 10
        }
      ]
    },
    {
      "cell_type": "code",
      "source": [
        "print(z [0:2])"
      ],
      "metadata": {
        "colab": {
          "base_uri": "https://localhost:8080/"
        },
        "id": "hEz3CLkyEhcz",
        "outputId": "c68e3581-7b63-49ff-8c52-03328e5cf716"
      },
      "execution_count": 11,
      "outputs": [
        {
          "output_type": "stream",
          "name": "stdout",
          "text": [
            "[3, 7]\n"
          ]
        }
      ]
    },
    {
      "cell_type": "code",
      "source": [
        "z [:3]"
      ],
      "metadata": {
        "colab": {
          "base_uri": "https://localhost:8080/"
        },
        "id": "IvIhbm5GEngN",
        "outputId": "42d3d710-953c-424f-f800-d73c8d456b41"
      },
      "execution_count": 12,
      "outputs": [
        {
          "output_type": "execute_result",
          "data": {
            "text/plain": [
              "[3, 7, 4]"
            ]
          },
          "metadata": {},
          "execution_count": 12
        }
      ]
    },
    {
      "cell_type": "code",
      "source": [
        "z = [3, 7, 4, 2] "
      ],
      "metadata": {
        "id": "p8v-A0J2Euc-"
      },
      "execution_count": 3,
      "outputs": []
    },
    {
      "cell_type": "code",
      "source": [
        "z = [4, 1, 5, 4, 10, 4] "
      ],
      "metadata": {
        "id": "MGaqY5a-bPW7"
      },
      "execution_count": 9,
      "outputs": []
    },
    {
      "cell_type": "code",
      "source": [
        "z.index(4, 2)"
      ],
      "metadata": {
        "colab": {
          "base_uri": "https://localhost:8080/"
        },
        "id": "spB_ABeObwpn",
        "outputId": "b7a64217-179d-4720-a6fb-d652e053c98b"
      },
      "execution_count": 10,
      "outputs": [
        {
          "output_type": "execute_result",
          "data": {
            "text/plain": [
              "3"
            ]
          },
          "metadata": {},
          "execution_count": 10
        }
      ]
    },
    {
      "cell_type": "code",
      "source": [
        "z = [3, 7, 4, 2] \n",
        "z.sort() \n",
        "print(z) \n"
      ],
      "metadata": {
        "colab": {
          "base_uri": "https://localhost:8080/"
        },
        "id": "iCJyM9Rzb3rG",
        "outputId": "649c9bc1-c68c-4921-ac7a-0538ee31208b"
      },
      "execution_count": 16,
      "outputs": [
        {
          "output_type": "stream",
          "name": "stdout",
          "text": [
            "[2, 3, 4, 7]\n"
          ]
        }
      ]
    },
    {
      "cell_type": "code",
      "source": [
        "z = [7, 4, 3, 2]\n",
        "z.append(3)  \n",
        "print(z) "
      ],
      "metadata": {
        "colab": {
          "base_uri": "https://localhost:8080/"
        },
        "id": "RQEksG63cqMv",
        "outputId": "c8a3e454-2475-46fe-c010-c596619b7a20"
      },
      "execution_count": 17,
      "outputs": [
        {
          "output_type": "stream",
          "name": "stdout",
          "text": [
            "[7, 4, 3, 2, 3]\n"
          ]
        }
      ]
    },
    {
      "cell_type": "code",
      "source": [
        "z = [7, 4, 3, 2, 3] \n",
        "z.remove(2) \n",
        "print(z) "
      ],
      "metadata": {
        "colab": {
          "base_uri": "https://localhost:8080/"
        },
        "id": "m8NvI3arcyqA",
        "outputId": "012b6eb8-63d4-43d4-fd8d-305152a9a9ea"
      },
      "execution_count": 19,
      "outputs": [
        {
          "output_type": "stream",
          "name": "stdout",
          "text": [
            "[7, 4, 3, 3]\n"
          ]
        }
      ]
    },
    {
      "cell_type": "code",
      "source": [
        "z = [7, 4, 3, 3] \n",
        "print(z.pop(1))  \n",
        "print(z) "
      ],
      "metadata": {
        "colab": {
          "base_uri": "https://localhost:8080/"
        },
        "id": "HH9_XKxLc5EL",
        "outputId": "d0e00605-dd82-4408-eb98-4005eff44e80"
      },
      "execution_count": 20,
      "outputs": [
        {
          "output_type": "stream",
          "name": "stdout",
          "text": [
            "4\n",
            "[7, 3, 3]\n"
          ]
        }
      ]
    },
    {
      "cell_type": "code",
      "source": [
        "z = [7, 3, 3] \n",
        "z.extend([4,5])  \n",
        "print(z) \n"
      ],
      "metadata": {
        "colab": {
          "base_uri": "https://localhost:8080/"
        },
        "id": "1zBj67ThdBh2",
        "outputId": "0c46b4ee-fd31-429c-9ff6-02d4a8a5d0bc"
      },
      "execution_count": 21,
      "outputs": [
        {
          "output_type": "stream",
          "name": "stdout",
          "text": [
            "[7, 3, 3, 4, 5]\n"
          ]
        }
      ]
    },
    {
      "cell_type": "code",
      "source": [
        "print([1,2] + [3,4]) "
      ],
      "metadata": {
        "colab": {
          "base_uri": "https://localhost:8080/"
        },
        "id": "BFP0GPa8dDb7",
        "outputId": "02304c13-29b6-40b7-e371-0a90b3ac8cd1"
      },
      "execution_count": 22,
      "outputs": [
        {
          "output_type": "stream",
          "name": "stdout",
          "text": [
            "[1, 2, 3, 4]\n"
          ]
        }
      ]
    },
    {
      "cell_type": "code",
      "source": [
        "z = [7, 3, 3, 4, 5] \n",
        "z.insert(4, [1, 2])  \n",
        "print(z) \n"
      ],
      "metadata": {
        "colab": {
          "base_uri": "https://localhost:8080/"
        },
        "id": "kXc4lE0RdJLJ",
        "outputId": "19f8ad83-513a-481e-c413-e3ddeb3ca80b"
      },
      "execution_count": 23,
      "outputs": [
        {
          "output_type": "stream",
          "name": "stdout",
          "text": [
            "[7, 3, 3, 4, [1, 2], 5]\n"
          ]
        }
      ]
    },
    {
      "cell_type": "code",
      "source": [],
      "metadata": {
        "id": "k8ljXmYfdOdC"
      },
      "execution_count": null,
      "outputs": []
    }
  ]
}